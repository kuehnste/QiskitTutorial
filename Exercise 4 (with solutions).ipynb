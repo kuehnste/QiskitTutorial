{
 "cells": [
  {
   "cell_type": "markdown",
   "metadata": {},
   "source": [
    "# Exercise 4: The Deutsch-Josza Algorithm\n",
    "\n",
    "Complete the following snippets provided in the notebook."
   ]
  },
  {
   "cell_type": "markdown",
   "metadata": {},
   "source": [
    "## Imports from the Qiskit package"
   ]
  },
  {
   "cell_type": "code",
   "execution_count": null,
   "metadata": {},
   "outputs": [],
   "source": [
    "# Importing standard Qiskit libraries\n",
    "from qiskit import QuantumCircuit, execute, Aer, IBMQ\n",
    "from qiskit.visualization import *\n",
    "from qiskit.quantum_info import state_fidelity\n",
    "# Magic function to render plots in the notebook after the cell executing the plot command\n",
    "%matplotlib inline"
   ]
  },
  {
   "cell_type": "markdown",
   "metadata": {},
   "source": [
    "### Function for convenience which allows for running the simulator and extracting the results"
   ]
  },
  {
   "cell_type": "code",
   "execution_count": null,
   "metadata": {},
   "outputs": [],
   "source": [
    "def run_on_qasm_simulator(quantum_circuit, num_shots):\n",
    "    \"\"\"Takes a circuit, the number of shots and a backend and returns the counts for running the circuit\n",
    "    on the qasm_simulator backend.\"\"\"\n",
    "    qasm_simulator = Aer.get_backend('qasm_simulator')\n",
    "    job = execute(quantum_circuit, backend=qasm_simulator, shots=num_shots)\n",
    "    result = job.result()\n",
    "    counts = result.get_counts(quantum_circuit)\n",
    "    return counts"
   ]
  },
  {
   "cell_type": "markdown",
   "metadata": {},
   "source": [
    "### Oracles implementing the functions"
   ]
  },
  {
   "cell_type": "code",
   "execution_count": null,
   "metadata": {},
   "outputs": [],
   "source": [
    "def oracle_f1():\n",
    "    \"Oracle implementing function f1\"\n",
    "    qc = QuantumCircuit(3)\n",
    "    qc.cnot(0,2)    \n",
    "    qc.cnot(1,2)    \n",
    "    qc.x(2)\n",
    "    qc.cnot(1,2)    \n",
    "    qc.cnot(0,2)    \n",
    "    return qc"
   ]
  },
  {
   "cell_type": "code",
   "execution_count": null,
   "metadata": {},
   "outputs": [],
   "source": [
    "def oracle_f2():\n",
    "    \"Oracle implementing function f2\"\n",
    "    qc = QuantumCircuit(3)\n",
    "    qc.cnot(0,2)\n",
    "    qc.x(2)\n",
    "    qc.cnot(1,2)\n",
    "    return qc"
   ]
  },
  {
   "cell_type": "markdown",
   "metadata": {},
   "source": [
    "##  <font color='orange'>Implementing the Deutsch-Josza algorithm</font>\n",
    "\n",
    "The goal of this exercise is to understand the Deutsch Josza algorithm for a small instance. We use a oracles implementing the a function acting on two bits, hence, including the ancialla we need 3 qubits. Complete the following task:\n",
    "1. Visualize the circuit that oracle_f1() implements.\n",
    "2. Implement the Deutsch-Josza algorithm for the oracle implemented in function oracle_f1(). Visualize the circuit and convince yourself it is correct. Generate a histogram for 100 shots. What do you observe? What does this imply for the function f1 which the oracle implements?\n",
    "3. Repeat the same tasks for the second oracle."
   ]
  },
  {
   "cell_type": "code",
   "execution_count": null,
   "metadata": {},
   "outputs": [],
   "source": [
    "# We visualize the oracle\n",
    "qc_oracle_f1 = oracle_f1()\n",
    "qc_oracle_f1.draw('mpl')"
   ]
  },
  {
   "cell_type": "code",
   "execution_count": null,
   "metadata": {},
   "outputs": [],
   "source": [
    "# Create a quantum circuit for 3 qubits and 2 classical registers\n",
    "qc_deutch_josza_oracle1 = QuantumCircuit(3,2)\n",
    "# Add the Hadamard gate\n",
    "qc_deutch_josza_oracle1.h(0)\n",
    "qc_deutch_josza_oracle1.h(1)\n",
    "# Apply the oracle\n",
    "qc_deutch_josza_oracle1.compose(qc_oracle_f1, inplace=True)\n",
    "# Add the z-gate acting on the ancilla\n",
    "qc_deutch_josza_oracle1.z(2)\n",
    "# Apply the oracle again\n",
    "qc_deutch_josza_oracle1.compose(qc_oracle_f1, inplace=True)\n",
    "# Add the Hadamard gate\n",
    "qc_deutch_josza_oracle1.h(0)\n",
    "qc_deutch_josza_oracle1.h(1)\n",
    "# Add measurement to the first two qubits\n",
    "qc_deutch_josza_oracle1.barrier()\n",
    "qc_deutch_josza_oracle1.measure(range(2),range(2))\n",
    "# Visualize the circuit\n",
    "qc_deutch_josza_oracle1.draw('mpl')"
   ]
  },
  {
   "cell_type": "code",
   "execution_count": null,
   "metadata": {},
   "outputs": [],
   "source": [
    "# The number of shots we use\n",
    "num_shots = 100\n",
    "# Now we run the circuit\n",
    "res_qc_deutch_josza_oracle1 = run_on_qasm_simulator(qc_deutch_josza_oracle1, num_shots)\n",
    "# Visualize the results in form of a histogram\n",
    "plot_histogram(res_qc_deutch_josza_oracle1, title='Deutsch-Josza algorithm, oracle 1')"
   ]
  },
  {
   "cell_type": "code",
   "execution_count": null,
   "metadata": {},
   "outputs": [],
   "source": [
    "# We visualize the oracle\n",
    "qc_oracle_f2 = oracle_f2()\n",
    "qc_oracle_f2.draw('mpl')"
   ]
  },
  {
   "cell_type": "code",
   "execution_count": null,
   "metadata": {},
   "outputs": [],
   "source": [
    "# Create a quantum circuit for 3 qubits and 2 classical registers\n",
    "qc_deutch_josza_oracle2 = QuantumCircuit(3,2)\n",
    "# Add the Hadamard gate\n",
    "qc_deutch_josza_oracle2.h(0)\n",
    "qc_deutch_josza_oracle2.h(1)\n",
    "# Apply the oracle\n",
    "qc_deutch_josza_oracle2.compose(qc_oracle_f2, inplace=True)\n",
    "# Add the z-gate acting on the ancilla\n",
    "qc_deutch_josza_oracle2.z(2)\n",
    "# Apply the oracle again\n",
    "qc_deutch_josza_oracle2.compose(qc_oracle_f2, inplace=True)\n",
    "# Add the Hadamard gate\n",
    "qc_deutch_josza_oracle2.h(0)\n",
    "qc_deutch_josza_oracle2.h(1)\n",
    "# Add measurement to the first two qubits\n",
    "qc_deutch_josza_oracle2.barrier()\n",
    "qc_deutch_josza_oracle2.measure(range(2),range(2))\n",
    "# Visualize the circuit\n",
    "qc_deutch_josza_oracle2.draw('mpl')"
   ]
  },
  {
   "cell_type": "code",
   "execution_count": null,
   "metadata": {},
   "outputs": [],
   "source": [
    "# The number of shots we use\n",
    "num_shots = 100\n",
    "# Now we run the circuit\n",
    "res_qc_deutch_josza_oracle2 = run_on_qasm_simulator(qc_deutch_josza_oracle2, num_shots)\n",
    "# Visualize the results in form of a histogram\n",
    "plot_histogram(res_qc_deutch_josza_oracle2, title='Deutsch-Josza algorithm, oracle 2')"
   ]
  },
  {
   "cell_type": "markdown",
   "metadata": {},
   "source": [
    "## <font color='green'>Optional tasks</font>\n",
    "\n",
    "Figure out what the functions implemented by the different oracles are doing. How can you do this using the qasm simulator?"
   ]
  },
  {
   "cell_type": "markdown",
   "metadata": {},
   "source": [
    "To figure out which functions are implemented by the two oracles we can just send the two basis states for two qubits through the oracle and examine the output qubit. The four computational basis states are given by $|00\\rangle$, $|01\\rangle$, $|10\\rangle$ and $|11\\rangle$. The last three states can be easily generated from default initial state $|00\\rangle$ by a applying an $X$ gate to the respective qubits which we need to be in state $|01\\rangle$"
   ]
  },
  {
   "cell_type": "code",
   "execution_count": null,
   "metadata": {},
   "outputs": [],
   "source": [
    "# Generate the circuits that are preparing the basis states\n",
    "qc_00 = QuantumCircuit(3)\n",
    "\n",
    "# 00\n",
    "qc_01 = QuantumCircuit(3)\n",
    "qc_01.x(1)\n",
    "\n",
    "# 10\n",
    "qc_10 = QuantumCircuit(3)\n",
    "qc_10.x(0)\n",
    "\n",
    "# 11\n",
    "qc_11 = QuantumCircuit(3)\n",
    "qc_11.x(0)\n",
    "qc_11.x(1)\n",
    "\n",
    "qcs_basis_states = [qc_00, qc_01, qc_10, qc_11]"
   ]
  },
  {
   "cell_type": "code",
   "execution_count": null,
   "metadata": {},
   "outputs": [],
   "source": [
    "# The number of shots we are going to use\n",
    "num_shots = 100\n",
    "# Prepare empty lists for the results of the two oracles\n",
    "res_oracle1 = list()\n",
    "res_oracle2 = list()\n",
    "\n",
    "# We run the oracles on the basis states and record the outcomes\n",
    "for qc_basis_state in qcs_basis_states:\n",
    "    # The quantum circuit sending a basis state through oracle 1 and measuring the output\n",
    "    qc_oracle1 = QuantumCircuit(3,1)\n",
    "    qc_oracle1.compose(qc_basis_state, inplace=True)\n",
    "    qc_oracle1.compose(oracle_f1(), inplace=True)\n",
    "    qc_oracle1.measure(2,0)\n",
    "    \n",
    "    # The quantum circuit sending a basis state through oracle 2 and measuring the output\n",
    "    qc_oracle2 = QuantumCircuit(3,1)\n",
    "    qc_oracle2.compose(qc_basis_state, inplace=True)\n",
    "    qc_oracle2.compose(oracle_f2(), inplace=True)\n",
    "    qc_oracle2.measure(2,0)\n",
    "   \n",
    "    # We run the circuits on the qasm simulator\n",
    "    res_oracle1.append(run_on_qasm_simulator(qc_oracle1, num_shots))\n",
    "    res_oracle2.append(run_on_qasm_simulator(qc_oracle2, num_shots))"
   ]
  },
  {
   "cell_type": "code",
   "execution_count": null,
   "metadata": {},
   "outputs": [],
   "source": [
    "# Visualize the results for oracle 1\n",
    "plot_histogram(res_oracle1, title='Results oracle 1', legend=['input |00>', 'input |01>', 'input |10>', 'input |11>'])"
   ]
  },
  {
   "cell_type": "markdown",
   "metadata": {},
   "source": [
    "| x_0 | x_1 | f_1(x_0,x_1) |\n",
    "| --- | --- | --- |\n",
    "| 0 | 0 | 1 |\n",
    "| 0 | 1 | 1 |\n",
    "| 1 | 0 | 1 |\n",
    "| 1 | 1 | 1 |"
   ]
  },
  {
   "cell_type": "code",
   "execution_count": null,
   "metadata": {},
   "outputs": [],
   "source": [
    "# Visualize the results for oracle 2\n",
    "plot_histogram(res_oracle2, title='Results oracle 2', legend=['input |00>', 'input |01>', 'input |10>', 'input |11>'])"
   ]
  },
  {
   "cell_type": "markdown",
   "metadata": {},
   "source": [
    "| x_0 | x_1 | f_2(x_0,x_1) |\n",
    "| --- | --- | --- |\n",
    "| 0 | 0 | 1 |\n",
    "| 0 | 1 | 0 |\n",
    "| 1 | 0 | 0 |\n",
    "| 1 | 1 | 1 |"
   ]
  }
 ],
 "metadata": {
  "kernelspec": {
   "display_name": "Python 3",
   "language": "python",
   "name": "python3"
  },
  "language_info": {
   "codemirror_mode": {
    "name": "ipython",
    "version": 3
   },
   "file_extension": ".py",
   "mimetype": "text/x-python",
   "name": "python",
   "nbconvert_exporter": "python",
   "pygments_lexer": "ipython3",
   "version": "3.6.9"
  }
 },
 "nbformat": 4,
 "nbformat_minor": 4
}
