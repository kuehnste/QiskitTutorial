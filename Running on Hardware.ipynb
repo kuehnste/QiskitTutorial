{
 "cells": [
  {
   "cell_type": "markdown",
   "metadata": {},
   "source": [
    "# Running on hardware\n",
    "This notebook demonstrates how to run on actual hardware. To run it you require an IBM Quantum Experience Account which can be obtained here\n",
    "\n",
    "https://quantum-computing.ibm.com/login\n",
    "\n",
    "After obtaining the IBM Quantum Experience Account follow the instructions here\n",
    "\n",
    "https://quantum-computing.ibm.com/lab/docs/iql/manage/account/ibmq\n",
    "\n",
    "to save your API token. Afterwards you should be able to access the publically available IBM Quantum Systems."
   ]
  },
  {
   "cell_type": "code",
   "execution_count": null,
   "metadata": {},
   "outputs": [],
   "source": [
    "# Importing standard Qiskit libraries\n",
    "from qiskit import QuantumCircuit, execute, Aer, IBMQ\n",
    "from qiskit.visualization import *\n",
    "from qiskit.quantum_info import state_fidelity\n",
    "# Magic function to render plots in the notebook after the cell executing the plot command\n",
    "%matplotlib inline"
   ]
  },
  {
   "cell_type": "markdown",
   "metadata": {},
   "source": [
    "## For demonstration purposes we prepare a little quantum circuit"
   ]
  },
  {
   "cell_type": "code",
   "execution_count": null,
   "metadata": {},
   "outputs": [],
   "source": [
    "qc = QuantumCircuit(3)\n",
    "qc.h(0)\n",
    "qc.cnot(0,1)\n",
    "qc.cnot(1,2)\n",
    "qc.measure_active()\n",
    "qc.draw(output='mpl')"
   ]
  },
  {
   "cell_type": "markdown",
   "metadata": {},
   "source": [
    "## Before we can access the quantum systems we have the authenticate against IBM Quantum Experience with our stored credentials"
   ]
  },
  {
   "cell_type": "code",
   "execution_count": null,
   "metadata": {},
   "outputs": [],
   "source": [
    "# Loading your IBM Q account\n",
    "IBMQ.load_account()\n",
    "provider = IBMQ.get_provider(group='open')"
   ]
  },
  {
   "cell_type": "markdown",
   "metadata": {},
   "source": [
    "## Select a suitable device and run on the hardware"
   ]
  },
  {
   "cell_type": "code",
   "execution_count": null,
   "metadata": {},
   "outputs": [],
   "source": [
    "# List the existing quantum devices and their number of qubits\n",
    "device_list = provider.backends(simulator=False)\n",
    "for dev in device_list:\n",
    "    print(dev.name() + ': ' + str(dev.configuration().n_qubits) + ' qubits')"
   ]
  },
  {
   "cell_type": "code",
   "execution_count": null,
   "metadata": {},
   "outputs": [],
   "source": [
    "# We choose one device which has enough qubits for our experiment and send the job to the device\n",
    "num_shots_hardware = 1024\n",
    "hardware_backend = provider.get_backend('ibmq_quito')\n",
    "job = execute(qc, backend=hardware_backend, shots=num_shots_hardware)"
   ]
  },
  {
   "cell_type": "markdown",
   "metadata": {},
   "source": [
    "## After running successfully we can retrieve the results and visualize them"
   ]
  },
  {
   "cell_type": "code",
   "execution_count": null,
   "metadata": {},
   "outputs": [],
   "source": [
    "result = job.result()\n",
    "counts = result.get_counts()\n",
    "plot_histogram(counts, title='Run on hardware')"
   ]
  },
  {
   "cell_type": "markdown",
   "metadata": {},
   "source": [
    "## For comparison we can also run on the ideal simulator with a varying number of shots"
   ]
  },
  {
   "cell_type": "code",
   "execution_count": null,
   "metadata": {},
   "outputs": [],
   "source": [
    "simulator_backend = Aer.get_backend('qasm_simulator')\n",
    "counts_simulator = list()\n",
    "num_shots_simulator = [1024, 8192]\n",
    "for num_shots in num_shots_simulator:\n",
    "    job = execute(qc, backend=simulator_backend, shots=num_shots)\n",
    "    result_simulator = job.result()\n",
    "    counts_simulator.append(result_simulator.get_counts())"
   ]
  },
  {
   "cell_type": "code",
   "execution_count": null,
   "metadata": {},
   "outputs": [],
   "source": [
    "# We plot a comparison between the different results\n",
    "plot_histogram([counts] + counts_simulator, title='Hardware vs. simulator',\n",
    "               legend=['hardware ' + str(num_shots_hardware) + ' shots',\n",
    "                       'simulator ' + str(num_shots_simulator[0]) + ' shots',\n",
    "                       'simulator ' + str(num_shots_simulator[1]) + ' shots'])"
   ]
  }
 ],
 "metadata": {
  "kernelspec": {
   "display_name": "Python 3",
   "language": "python",
   "name": "python3"
  },
  "language_info": {
   "codemirror_mode": {
    "name": "ipython",
    "version": 3
   },
   "file_extension": ".py",
   "mimetype": "text/x-python",
   "name": "python",
   "nbconvert_exporter": "python",
   "pygments_lexer": "ipython3",
   "version": "3.6.9"
  }
 },
 "nbformat": 4,
 "nbformat_minor": 4
}
