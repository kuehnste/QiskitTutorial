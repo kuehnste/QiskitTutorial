{
 "cells": [
  {
   "cell_type": "markdown",
   "metadata": {},
   "source": [
    "# Exercise 3: Real-time evolution of the Ising model\n",
    "\n",
    "We want to compute the real-time evolution of an initial state $|\\psi_0\\rangle$ under the Ising Hamiltonian\n",
    "$$H = \\sum_{i=0}^{N-2} Z_iZ_{i+1} + h\\sum_{i=0}^{N-1} X_i$$\n",
    "using a trotterized version of the time-evolution operator \n",
    "$$U(\\Delta t)\\approx \\prod_{k=0}^{N-2} \\exp\\left(-i Z_kZ_{k+1} \\Delta t\\right) \\prod_{k=0}^{N-1} \\exp\\left(-i hX_{k} \\Delta t\\right).$$\n",
    "Thus, we can obtain \n",
    "$$|\\psi(n\\Delta t)\\rangle = U(\\Delta t)^n|\\psi_0\\rangle.$$\n",
    "\n",
    "In the following we use $N=4$ and the initial state\n",
    "$$|\\psi_0\\rangle = |0010\\rangle$$."
   ]
  },
  {
   "cell_type": "markdown",
   "metadata": {},
   "source": [
    "## Imports from the Qiskit package"
   ]
  },
  {
   "cell_type": "code",
   "execution_count": 1,
   "metadata": {},
   "outputs": [],
   "source": [
    "# Importing standard Qiskit libraries\n",
    "from qiskit import QuantumCircuit, execute, Aer, IBMQ\n",
    "from qiskit.visualization import *\n",
    "from qiskit.quantum_info import state_fidelity\n",
    "# Numpy and Scipy for data evaluation and reference calculations\n",
    "import numpy as np\n",
    "from scipy.linalg import expm\n",
    "# Matplotlib for visualization\n",
    "import matplotlib.pyplot as plt\n",
    "# Magic function to render plots in the notebook after the cell executing the plot command\n",
    "%matplotlib inline"
   ]
  },
  {
   "cell_type": "markdown",
   "metadata": {},
   "source": [
    "### Function for convenience which allows for running the simulator and extracting the results"
   ]
  },
  {
   "cell_type": "code",
   "execution_count": 2,
   "metadata": {},
   "outputs": [],
   "source": [
    "# Function for convenience which allows for running the simulator and extracting the results\n",
    "def run_on_qasm_simulator(quantum_circuit, num_shots):\n",
    "    \"\"\"Takes a circuit, the number of shots and a backend and returns the counts for running the circuit\n",
    "    on the qasm_simulator backend.\"\"\"\n",
    "    qasm_simulator = Aer.get_backend('qasm_simulator')\n",
    "    job = execute(quantum_circuit, backend=qasm_simulator, shots=num_shots)\n",
    "    result = job.result()\n",
    "    counts = result.get_counts()\n",
    "    return counts"
   ]
  },
  {
   "cell_type": "markdown",
   "metadata": {},
   "source": [
    "### Function providing the exact solution for the magnetization for comparison"
   ]
  },
  {
   "cell_type": "code",
   "execution_count": 3,
   "metadata": {},
   "outputs": [],
   "source": [
    "def Op(M, n ,N):\n",
    "    \"\"\"Given a single site operator, provide the N-body operator \n",
    "    string obtained by tensoring identities\"\"\"\n",
    "    d = M.shape[0]\n",
    "    id_left = np.eye(d**n)\n",
    "    id_right = np.eye(d**(N-n-1))\n",
    "    res = np.kron(id_left,np.kron(M,id_right))\n",
    "    return res\n",
    "\n",
    "def IsingHamiltonian(N, h):\n",
    "    \"\"\"The Ising Hamiltonian for N sites with parameter h\"\"\"\n",
    "    Z = np.array([[1., 0.],[0., -1.]])\n",
    "    X = np.array([[0., 1.],[1., 0.]])\n",
    "    H = np.zeros((2**N, 2**N))\n",
    "    for i in range(N):\n",
    "        if i<N-1:            \n",
    "            H += Op(Z, i, N)@Op(Z, i+1, N)\n",
    "        H += h*Op(X, i, N)\n",
    "    return H            \n",
    "\n",
    "# For reference, we provide a function computing the exact solution for\n",
    "# the magnetization as a function of time\n",
    "def get_magnetization_vs_time(h, delta_t, nsteps):\n",
    "    \"\"\"Compute the exact value of the magnetization\"\"\"\n",
    "    Z = np.array([[1., 0.],[0., -1.]])\n",
    "    X = np.array([[0., 1.],[1., 0.]])\n",
    "    Id = np.eye(2)\n",
    "    # The Ising Hamiltonian for 4 sites with parameter h\n",
    "    H = IsingHamiltonian(4, h)\n",
    "    # The time evolution operator for an interval \\Delta t\n",
    "    U = expm(-1.0j*delta_t*H)\n",
    "    # The operator for the total magnetization\n",
    "    M = Op(Z,0,4) + Op(Z,1,4) + Op(Z,2,4) + Op(Z,3,4)\n",
    "    # Numpy array to hold the results\n",
    "    magnetization = np.zeros(nsteps)\n",
    "    # The initial wave function corresponding to |0010>\n",
    "    psi = np.zeros(16)\n",
    "    psi[int('0010', 2)] = 1\n",
    "    # Evolve in steps of \\Delta t and measure the magnetization\n",
    "    for n in range(nsteps):\n",
    "        psi = U@psi\n",
    "        magnetization[n] = np.real(psi.conj().T@M@psi)\n",
    "    return magnetization"
   ]
  },
  {
   "cell_type": "markdown",
   "metadata": {},
   "source": [
    "##  <font color='orange'>Initial state</font> \n",
    "\n",
    "Complete the following function which provides a quantum circuit creating the initial state $|0010\\rangle$ (all qubits in state zero, except for qubit 2). Note that we still need to evolve the state in time, you do not need to add any measurements at the end."
   ]
  },
  {
   "cell_type": "code",
   "execution_count": 4,
   "metadata": {},
   "outputs": [],
   "source": [
    "def provide_initial_state():\n",
    "    # Create a quantum circuit qc for 4 qubits\n",
    "    qc = QuantumCircuit(4)\n",
    "    # Add the necessary gate(s) to provide the inital state |0010>\n",
    "    qc.x(2)    \n",
    "    return qc"
   ]
  },
  {
   "cell_type": "markdown",
   "metadata": {},
   "source": [
    "##  <font color='orange'>The $exp\\left(-i Z_kZ_{k+1} \\Delta t\\right)$ part of the time-evolution operator</font>\n",
    "\n",
    "Complete the following function which provides the $exp\\left(-i Z_kZ_{k+1} \\Delta t\\right)$ of the time evolution operator. Note that we still need to evolve the state in time, you do not need to add any measurements at the end."
   ]
  },
  {
   "cell_type": "code",
   "execution_count": 5,
   "metadata": {},
   "outputs": [],
   "source": [
    "def Uzz(delta_t):\n",
    "    # Create an empty quantum circuit qc for 4 qubits\n",
    "    qc = QuantumCircuit(4)\n",
    "    # Add the gates for exp(-i Z_k Z_k+1 \\Delta t) for all neighboring qubits\n",
    "    for i in range(3):\n",
    "        qc.rzz(2.0*delta_t, i, i+1)\n",
    "    return qc"
   ]
  },
  {
   "cell_type": "markdown",
   "metadata": {},
   "source": [
    "##  <font color='orange'>The $exp\\left(-i hX_k \\Delta t\\right)$ part of the time-evolution operator</font>\n",
    "\n",
    "Complete the following function which provides the $exp\\left(-i hX_k \\Delta t\\right)$ of the time evolution operator. Note that we still need to evolve the state in time, you do not need to add any measurements at the end."
   ]
  },
  {
   "cell_type": "code",
   "execution_count": 6,
   "metadata": {},
   "outputs": [],
   "source": [
    "def Ux(delta_t, h):\n",
    "    # Create an empty quantum circuit qc for 4 qubits\n",
    "    qc = QuantumCircuit(4)\n",
    "    # Add the gates for exp(-i h X_k \\Delta t) to all qubits\n",
    "    for i in range(4):        \n",
    "        qc.rx(2.0*delta_t*h, i)\n",
    "    return qc"
   ]
  },
  {
   "cell_type": "markdown",
   "metadata": {},
   "source": [
    "## Functions for the time evoltuon\n",
    "\n",
    "After building the circuit implementing the initial state and the parts of the time evolution operator, the first of following functions allows for building the total circuit evolving the initial state in time by N steps.\n",
    "\n",
    "The second function allows for computing the magnetization given the counts resulting from a measurement."
   ]
  },
  {
   "cell_type": "code",
   "execution_count": 7,
   "metadata": {},
   "outputs": [],
   "source": [
    "def build_time_evolution_circuit(qc_init_state, qc_Uzz, qc_Ux, N):\n",
    "    \"\"\"Given the circuits implementing the initial state and the two parts\n",
    "    of the trotterized time-evolution operator build the circuit evolving the \n",
    "    wave function N steps\n",
    "    \"\"\"\n",
    "    # Generate an empty quantum circuit qc for 4 qubits\n",
    "    qc = QuantumCircuit(4)\n",
    "    # Add the inital state\n",
    "    qc += qc_init_state\n",
    "    # For each time step add qc_Uzz and qc_Ux\n",
    "    for i in range(N):\n",
    "        qc += qc_Uzz\n",
    "        qc += qc_Ux\n",
    "    # Add the final measurments\n",
    "    qc.measure_all()\n",
    "    return qc"
   ]
  },
  {
   "cell_type": "code",
   "execution_count": 8,
   "metadata": {},
   "outputs": [],
   "source": [
    "def get_magnetization(counts):\n",
    "    \"\"\"Given the counts resulting form a measurement, compute the site\n",
    "    resolved magnetization\"\"\"\n",
    "    total_counts = sum(counts.values())\n",
    "    res = np.zeros(4)\n",
    "    for qubit in range(4):\n",
    "        Z_expectation = 0.\n",
    "        for key, value in counts.items():\n",
    "            if key[qubit] == '0':\n",
    "                Z_expectation += value\n",
    "            else:\n",
    "                Z_expectation -= value\n",
    "        res[qubit] = Z_expectation/total_counts\n",
    "    return res"
   ]
  },
  {
   "cell_type": "markdown",
   "metadata": {},
   "source": [
    "## <font color='orange'>Run the evolution and visualize the results</font>"
   ]
  },
  {
   "cell_type": "code",
   "execution_count": 9,
   "metadata": {},
   "outputs": [],
   "source": [
    "# The parameters for the time evolution\n",
    "h = 1.5\n",
    "delta_t = 0.05\n",
    "nsteps = 40\n",
    "nshots = 1000\n",
    "\n",
    "# Provide the initial state\n",
    "qc_init_state = provide_initial_state()\n",
    "# The time-evolution operators\n",
    "qc_Uzz = Uzz(delta_t)\n",
    "qc_Ux = Ux(delta_t,h)"
   ]
  },
  {
   "cell_type": "code",
   "execution_count": 10,
   "metadata": {},
   "outputs": [],
   "source": [
    "# Numpy array for expectation values of the magnetization\n",
    "magnetization = np.zeros(nsteps)\n",
    "# Numpy array for qubit configuration\n",
    "configuration = np.zeros((4, nsteps))\n",
    "# Run the time evolution\n",
    "for n in range(1, nsteps+1):\n",
    "    # Build the evolution circuit out of qc_init_state, qc_Uzz and qc_Ux for \n",
    "    # n steps\n",
    "    qc_evo = build_time_evolution_circuit(qc_init_state, qc_Uzz, qc_Ux, n)\n",
    "    # Run the evolution circuit on the qasm_simulator\n",
    "    res = run_on_qasm_simulator(qc_evo, nshots)\n",
    "    # Compute the ovservables\n",
    "    configuration[:,n-1] = get_magnetization(res)    \n",
    "    magnetization[n-1] = sum(configuration[:,n-1])\n",
    "# For reference we compute the exact solution\n",
    "magnetization_exact = get_magnetization_vs_time(h, delta_t, nsteps)"
   ]
  },
  {
   "cell_type": "code",
   "execution_count": 11,
   "metadata": {},
   "outputs": [
    {
     "data": {
      "text/plain": [
       "Text(0.5, 1.0, 'Spatially resolved spin configuration')"
      ]
     },
     "execution_count": 11,
     "metadata": {},
     "output_type": "execute_result"
    },
    {
     "data": {
      "image/png": "[encoded data removed]",
      "text/plain": [
       "<Figure size 432x288 with 1 Axes>"
      ]
     },
     "metadata": {
      "needs_background": "light"
     },
     "output_type": "display_data"
    },
    {
     "data": {
      "image/png": "[encoded data removed]",
      "text/plain": [
       "<Figure size 432x288 with 2 Axes>"
      ]
     },
     "metadata": {
      "needs_background": "light"
     },
     "output_type": "display_data"
    }
   ],
   "source": [
    "# Plot the total magnetization as a function of time and compare to\n",
    "# the exact result\n",
    "plt.figure()\n",
    "plt.plot(magnetization_exact, '--', label='exact')\n",
    "plt.plot(magnetization, 'o', label='quantum circuit')\n",
    "plt.xlabel('$t/\\Delta t$')\n",
    "plt.ylabel('$<\\sum_i Z_i(t)>$')\n",
    "plt.title('Total magnetization')\n",
    "plt.legend()\n",
    "\n",
    "# Plot the site resolved spin configuration as a function of time\n",
    "plt.figure()\n",
    "plt.imshow(configuration, aspect='auto')\n",
    "plt.colorbar()\n",
    "plt.xlabel('$t/\\Delta t$')\n",
    "plt.ylabel('$<Z_i(t)>$')\n",
    "plt.title('Spatially resolved spin configuration')"
   ]
  },
  {
   "cell_type": "markdown",
   "metadata": {},
   "source": [
    "## <font color='green'>Optional tasks</font>\n",
    "\n",
    "The solution for the problem above can be more elegant by using parameterized circuits keeping the parameters $\\Delta t$ and $h$ in $U_{zz}$ and $U_x$ dynamical and binding them to a certain value before evaluation. Following the tutorial [here](https://qiskit.org/documentation/tutorials/circuits_advanced/01_advanced_circuits.html) try to solve the problem above using parameterized circuits."
   ]
  },
  {
   "cell_type": "code",
   "execution_count": 19,
   "metadata": {},
   "outputs": [],
   "source": [
    "# Import the package for working with parameters\n",
    "from qiskit.circuit import Parameter\n",
    "\n",
    "# Define parameters, the arguments define the symbols that are shown if we\n",
    "# draw the circuit\n",
    "dt = Parameter('Δt')\n",
    "h = Parameter('h')"
   ]
  },
  {
   "cell_type": "code",
   "execution_count": 20,
   "metadata": {},
   "outputs": [],
   "source": [
    "def Uzz_parameterized(param_delta_t):\n",
    "    # Create an empty quantum circuit qc for 4 qubits\n",
    "    qc = QuantumCircuit(4)\n",
    "    # Add the gates for exp(-i Z_k Z_k+1 \\Delta t) for all neighboring qubits\n",
    "    for i in range(3):\n",
    "        qc.rzz(2.0*param_delta_t, i, i+1)\n",
    "    return qc"
   ]
  },
  {
   "cell_type": "code",
   "execution_count": 21,
   "metadata": {},
   "outputs": [],
   "source": [
    "def Ux_parameterized(param_delta_t, param_h):\n",
    "    # Create an empty quantum circuit qc for 4 qubits\n",
    "    qc = QuantumCircuit(4)\n",
    "    for i in range(4):\n",
    "        # Add the exp(-i \\Delta t Z_k Z_k+1) gates\n",
    "        qc.rx(2.0*param_delta_t*param_h, i)\n",
    "    return qc"
   ]
  },
  {
   "cell_type": "code",
   "execution_count": 22,
   "metadata": {},
   "outputs": [],
   "source": [
    "# The parameters for the time evolution (now we can conveniently check \n",
    "# for multiple values of h since we have a parameterized circuit)\n",
    "h_values = [1.0, 1.2 , 1.5]\n",
    "delta_t = 0.05\n",
    "nsteps = 40\n",
    "nshots = 1000\n",
    "\n",
    "# Provide the initial state\n",
    "qc_init_state = provide_initial_state()\n",
    "# The time-evolution operators\n",
    "qc_Uzz = Uzz_parameterized(dt)\n",
    "qc_Ux = Ux_parameterized(dt, h)"
   ]
  },
  {
   "cell_type": "code",
   "execution_count": 23,
   "metadata": {},
   "outputs": [],
   "source": [
    "# Numpy array for expectation values of the magnetization\n",
    "magnetization = np.zeros((len(h_values), nsteps))\n",
    "# Run the time evolution\n",
    "for n in range(1, nsteps+1):\n",
    "    # Build the evolution circuit out of qc_init_state, qc_Uzz and qc_Ux for \n",
    "    # n steps\n",
    "    qc_evo = build_time_evolution_circuit(qc_init_state, qc_Uzz, qc_Ux, n)    \n",
    "    # Now we bind the parameter \\Delta t\n",
    "    qc_evo = qc_evo.bind_parameters({dt: delta_t})\n",
    "    # Now we bind the parameters for h and get a list of circuits, one for each value of h\n",
    "    circs = [qc_evo.bind_parameters({h: h_value}) for h_value in h_values]\n",
    "    # Run the evolution circuits on the qasm_simulator\n",
    "    res = run_on_qasm_simulator(circs, nshots)\n",
    "    # Compute the ovservables (now res is a list of counts with one entry for each different value of h)\n",
    "    for i in range(len(res)):\n",
    "        configuration = get_magnetization(res[i])\n",
    "        magnetization[i, n-1] = sum(configuration)\n",
    "        \n",
    "# For reference we compute the exact solutions\n",
    "magnetization_exact = np.zeros((len(h_values), nsteps))\n",
    "for i in range(len(h_values)):\n",
    "    magnetization_exact[i,:] = get_magnetization_vs_time(h_values[i], delta_t, nsteps)"
   ]
  },
  {
   "cell_type": "code",
   "execution_count": 24,
   "metadata": {},
   "outputs": [
    {
     "data": {
      "text/plain": [
       "<matplotlib.legend.Legend at 0x1de15480d88>"
      ]
     },
     "execution_count": 24,
     "metadata": {},
     "output_type": "execute_result"
    },
    {
     "data": {
      "image/png": "[encoded data removed]",
      "text/plain": [
       "<Figure size 432x288 with 1 Axes>"
      ]
     },
     "metadata": {
      "needs_background": "light"
     },
     "output_type": "display_data"
    }
   ],
   "source": [
    "# Plot the total magnetization as a function of time and compare to\n",
    "# the exact result\n",
    "plt.figure()\n",
    "for i in range(len(h_values)):\n",
    "    hf = plt.plot(magnetization_exact[i,:], '--', label='exact, $h = ' + str(h_values[i]) + '$')\n",
    "    plt.plot(magnetization[i,:], 'o', label='quantum circuit, $h = ' + str(h_values[i]) + '$', c=hf[0].get_color())\n",
    "plt.xlabel('$t/\\Delta t$')\n",
    "plt.ylabel('$<\\sum_i Z_i(t)>$')\n",
    "plt.title('Total magnetization')\n",
    "plt.legend()"
   ]
  }
 ],
 "metadata": {
  "kernelspec": {
   "display_name": "Python 3",
   "language": "python",
   "name": "python3"
  },
  "language_info": {
   "codemirror_mode": {
    "name": "ipython",
    "version": 3
   },
   "file_extension": ".py",
   "mimetype": "text/x-python",
   "name": "python",
   "nbconvert_exporter": "python",
   "pygments_lexer": "ipython3",
   "version": "3.7.7"
  }
 },
 "nbformat": 4,
 "nbformat_minor": 4
}
