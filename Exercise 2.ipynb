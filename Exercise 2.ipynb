{
 "cells": [
  {
   "cell_type": "markdown",
   "metadata": {},
   "source": [
    "# Exercise 2: Phase kickback\n",
    "\n",
    "Complete the following snippets provided in the notebook."
   ]
  },
  {
   "cell_type": "markdown",
   "metadata": {},
   "source": [
    "## Imports from the Qiskit package"
   ]
  },
  {
   "cell_type": "code",
   "execution_count": null,
   "metadata": {},
   "outputs": [],
   "source": [
    "# Importing standard Qiskit libraries\n",
    "from qiskit import QuantumCircuit, execute, Aer, IBMQ\n",
    "from qiskit.visualization import *\n",
    "from qiskit.quantum_info import state_fidelity\n",
    "# Numpy for numeric functions\n",
    "import numpy as np\n",
    "# Magic function to render plots in the notebook after the cell executing the plot command\n",
    "%matplotlib inline"
   ]
  },
  {
   "cell_type": "markdown",
   "metadata": {},
   "source": [
    "### Function for convenience which allows for running on the state vector simulator"
   ]
  },
  {
   "cell_type": "code",
   "execution_count": null,
   "metadata": {},
   "outputs": [],
   "source": [
    "def run_on_statevector_simulator(quantum_circuit, decimals=6):\n",
    "    \"\"\"Takes a circuit, and runs it on the state vector simulator backend.\"\"\"\n",
    "    statevector_simulator = Aer.get_backend('statevector_simulator')\n",
    "    job = execute(quantum_circuit, backend=statevector_simulator)\n",
    "    result = job.result()    \n",
    "    statevector = result.get_statevector(quantum_circuit, decimals=decimals)\n",
    "    return statevector"
   ]
  },
  {
   "cell_type": "markdown",
   "metadata": {},
   "source": [
    "##  <font color='orange'>A simple phase kickback circuit</font>\n",
    "\n",
    "The goal of this exercise is to examine a simple example of phase kickback. Complete the following task:\n",
    "1. Implement the circuit generating \n",
    "$$|\\psi_0\\rangle = (H\\otimes H)(X\\otimes I)|00\\rangle.$$\n",
    "Visualize it and make sure it is correct.\n",
    "2. Execute it on the state vector simulator and visualize the result using `plot_bloch_multivector`.\n",
    "3. Add a CNOT gate to the circuit and draw the resulting circuit to make sure it is correct.\n",
    "4. Execute it again the state vector simulator and visualize the result using `plot_bloch_multivector`. What do you observe? Can you explain the effect?"
   ]
  },
  {
   "cell_type": "code",
   "execution_count": null,
   "metadata": {},
   "outputs": [],
   "source": [
    "# Generate a quantum circuit for two qubits\n",
    "\n",
    "# Add the gates which generate |psi_0>\n",
    "\n",
    "# Draw the quantum circuit\n"
   ]
  },
  {
   "cell_type": "code",
   "execution_count": null,
   "metadata": {},
   "outputs": [],
   "source": [
    "# Run it on the state vector simulator\n"
   ]
  },
  {
   "cell_type": "code",
   "execution_count": null,
   "metadata": {},
   "outputs": [],
   "source": [
    "# Visualize the resulting state vector\n"
   ]
  },
  {
   "cell_type": "code",
   "execution_count": null,
   "metadata": {},
   "outputs": [],
   "source": [
    "# Add a CNOT gate to the circuit\n",
    "\n",
    "# Draw the circuit\n"
   ]
  },
  {
   "cell_type": "code",
   "execution_count": null,
   "metadata": {},
   "outputs": [],
   "source": [
    "# Run it on the state vector simulator\n"
   ]
  },
  {
   "cell_type": "code",
   "execution_count": null,
   "metadata": {},
   "outputs": [],
   "source": [
    "# Visualize the resulting state vector\n"
   ]
  },
  {
   "cell_type": "markdown",
   "metadata": {},
   "source": [
    "## <font color='green'>Optional task</font>\n",
    "Replace the CNOT gate with a controlled $R_x$ gate (`crx(angle, ind_control, ind_target)`). Repeat the experiment for several angles between $[0,2\\pi]$. what do you observe?"
   ]
  },
  {
   "cell_type": "code",
   "execution_count": null,
   "metadata": {},
   "outputs": [],
   "source": [
    "# Generate a quantum circuit qc2 for two qubits\n",
    "qc2 = QuantumCircuit(2)\n",
    "# Add the gates which generate |psi_0>\n",
    "\n",
    "# Draw the quantum circuit\n"
   ]
  },
  {
   "cell_type": "code",
   "execution_count": null,
   "metadata": {},
   "outputs": [],
   "source": [
    "# Run it on the state vector simulator for various angles of Rx\n",
    "# Number of steps\n",
    "nsteps = 10\n",
    "for i in range(nsteps):\n",
    "    # We copy the quantum circuit qc2 into a new circuit qc3\n",
    "    qc3 = QuantumCircuit(2)\n",
    "    qc3.compose(qc2, inplace=True)\n",
    "    # Add the controllec Rx gates between qubits 0 and 1 for various angles\n",
    "    # Hint set: the angle to i*4*np.pi/nsteps\n",
    "    \n",
    "    # Run the resulting circuit on the state vector simulator\n",
    "    vec = run_on_statevector_simulator(qc3)\n",
    "    # Visualize the state vector\n",
    "    "
   ]
  }
 ],
 "metadata": {
  "kernelspec": {
   "display_name": "Python 3",
   "language": "python",
   "name": "python3"
  },
  "language_info": {
   "codemirror_mode": {
    "name": "ipython",
    "version": 3
   },
   "file_extension": ".py",
   "mimetype": "text/x-python",
   "name": "python",
   "nbconvert_exporter": "python",
   "pygments_lexer": "ipython3",
   "version": "3.6.9"
  }
 },
 "nbformat": 4,
 "nbformat_minor": 4
}
