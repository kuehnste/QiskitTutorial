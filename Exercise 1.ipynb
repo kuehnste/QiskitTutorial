{
 "cells": [
  {
   "cell_type": "markdown",
   "metadata": {},
   "source": [
    "# Exercise 1: Superposition and entanglement\n",
    "\n",
    "Complete the following snippets provided in the notebook."
   ]
  },
  {
   "cell_type": "markdown",
   "metadata": {},
   "source": [
    "## Imports from the Qiskit package"
   ]
  },
  {
   "cell_type": "code",
   "execution_count": null,
   "metadata": {},
   "outputs": [],
   "source": [
    "# Importing standard Qiskit libraries\n",
    "from qiskit import QuantumCircuit, execute, Aer, IBMQ\n",
    "from qiskit.visualization import *\n",
    "from qiskit.quantum_info import state_fidelity\n",
    "# Magic function to render plots in the notebook after the cell executing the plot command\n",
    "%matplotlib inline"
   ]
  },
  {
   "cell_type": "markdown",
   "metadata": {},
   "source": [
    "### Function for convenience which allows for running the simulator and extracting the results"
   ]
  },
  {
   "cell_type": "code",
   "execution_count": null,
   "metadata": {},
   "outputs": [],
   "source": [
    "def run_on_qasm_simulator(quantum_circuit, num_shots):\n",
    "    \"\"\"Takes a circuit, the number of shots and a backend and returns the counts for running the circuit\n",
    "    on the qasm_simulator backend.\"\"\"\n",
    "    qasm_simulator = Aer.get_backend('qasm_simulator')\n",
    "    job = execute(quantum_circuit, backend=qasm_simulator, shots=num_shots)\n",
    "    result = job.result()\n",
    "    counts = result.get_counts(quantum_circuit)\n",
    "    return counts"
   ]
  },
  {
   "cell_type": "markdown",
   "metadata": {},
   "source": [
    "##  <font color='orange'>Superpostion</font> \n",
    "\n",
    "The goal of this exercise is to generate superposition. Complete the following tasks:\n",
    "1. Create a single-qubit quantum circuit with a single Hadamard gate.\n",
    "3. Visualize the circuit and make sure it is correct.\n",
    "4. Measure the results with 100, 500, 1000 and 10000 shots and visualize the result. What do you observe?"
   ]
  },
  {
   "cell_type": "code",
   "execution_count": null,
   "metadata": {},
   "outputs": [],
   "source": [
    "# Create a quantum circuit with a single qubit\n",
    "qc = QuantumCircuit(1)\n",
    "# Add the Hadamard gate\n",
    "\n",
    "# Add the final measurement\n",
    "\n",
    "# Visualize the circuit\n",
    "qc.draw('mpl')"
   ]
  },
  {
   "cell_type": "code",
   "execution_count": null,
   "metadata": {},
   "outputs": [],
   "source": [
    "# Now we run the circuit various number of shots\n",
    "\n",
    "# Visualize the results in form of a histogram\n"
   ]
  },
  {
   "cell_type": "markdown",
   "metadata": {},
   "source": [
    "##  <font color='orange'>Entanglement</font>\n",
    "\n",
    "Now that we have understood how the Hadamard gate acts, let us use it to generate an entangled state. Complete the following tasks:\n",
    "1. Create a two-qubit quantum circuit the circuit creating a Bell state.\n",
    "3. Visualize the circuit and make sure it is correct.\n",
    "4. Measure the results with 100, 500, 1000 and 10000 shots and visualize the result. What do you observe?"
   ]
  },
  {
   "cell_type": "code",
   "execution_count": null,
   "metadata": {},
   "outputs": [],
   "source": [
    "# Create a quantum circuit with two qubits\n",
    "\n",
    "# Add the gates creating a Bell state\n",
    "\n",
    "# Add the final measurement\n",
    "\n",
    "# Visualize the circuit\n"
   ]
  },
  {
   "cell_type": "code",
   "execution_count": null,
   "metadata": {},
   "outputs": [],
   "source": [
    "# Now we run the circuit various number of shots\n",
    "\n",
    "# Visualize the results in form of a histogram\n"
   ]
  },
  {
   "cell_type": "markdown",
   "metadata": {},
   "source": [
    "## <font color='green'>Optional tasks</font>\n",
    "\n",
    "The circuit which you have implemented above yields the Bell state $|\\Phi^+\\rangle = \\frac{1}{\\sqrt{2}}\\left(|0\\rangle\\otimes |0\\rangle + |1\\rangle\\otimes|1\\rangle\\right)$. There are three more Bell states given by\n",
    "\n",
    "$$ |\\Phi^-\\rangle = \\frac{1}{\\sqrt{2}}\\left(|0\\rangle\\otimes |0\\rangle - |1\\rangle\\otimes|1\\rangle\\right)$$\n",
    "$$ |\\Psi^+\\rangle = \\frac{1}{\\sqrt{2}} \\left(|0\\rangle\\otimes |1\\rangle + |1\\rangle\\otimes|0\\rangle\\right)$$\n",
    "$$ |\\Psi^-\\rangle = \\frac{1}{\\sqrt{2}} \\left(|0\\rangle\\otimes |1\\rangle - |1\\rangle\\otimes|0\\rangle\\right).$$\n",
    "\n",
    "Can you find circuits preparing the other three Bell states? Convince yourself that the Bell states are indeed orthogonal using the state_vector backend of Aer."
   ]
  },
  {
   "cell_type": "code",
   "execution_count": null,
   "metadata": {},
   "outputs": [],
   "source": [
    "# We prepare a similar function for running on the state vector simulator\n",
    "# This way we can obtain the state vectors and check for orthogonality\n",
    "def run_on_statevector_simulator(quantum_circuit, decimals=6):\n",
    "    \"\"\"Takes a circuit, and runs it on the state vector simulator backend.\"\"\"\n",
    "    statevector_simulator = Aer.get_backend('statevector_simulator')\n",
    "    job = execute(quantum_circuit, backend=statevector_simulator)\n",
    "    result = job.result()    \n",
    "    statevector = result.get_statevector(quantum_circuit, decimals=decimals)\n",
    "    return statevector"
   ]
  },
  {
   "cell_type": "markdown",
   "metadata": {},
   "source": [
    "### The state $|\\Phi^-\\rangle$"
   ]
  },
  {
   "cell_type": "code",
   "execution_count": null,
   "metadata": {},
   "outputs": [],
   "source": [
    "# A quantum circuit for two qubits\n",
    "qc_phi_minus = QuantumCircuit(2)\n",
    "# Now add the gates\n",
    "\n",
    "# Visualize the circuit\n",
    "qc_phi_minus.draw('mpl')"
   ]
  },
  {
   "cell_type": "code",
   "execution_count": null,
   "metadata": {},
   "outputs": [],
   "source": [
    "# To obtain the statevector, we run on Aer's state vector simulator. Note, that there is no measurement at the end\n",
    "# when running on the state vector simulator, as otherwise the state would collapse onto one of the computational\n",
    "# basis states and we do not get the actual state vector prepared by the circuit\n",
    "phi_minus_state = run_on_statevector_simulator(qc_phi_minus)\n",
    "print('|Phi^-> =', phi_minus_state)"
   ]
  },
  {
   "cell_type": "markdown",
   "metadata": {},
   "source": [
    "### The state $|\\Psi^+\\rangle$"
   ]
  },
  {
   "cell_type": "code",
   "execution_count": null,
   "metadata": {},
   "outputs": [],
   "source": [
    "#The psi^+ state\n",
    "qc_psi_plus = QuantumCircuit(2)\n",
    "# Now add the gates\n",
    "\n",
    "# Visualize the circuit\n",
    "qc_psi_plus.draw('mpl')"
   ]
  },
  {
   "cell_type": "code",
   "execution_count": null,
   "metadata": {},
   "outputs": [],
   "source": [
    "psi_plus_state = run_on_statevector_simulator(qc_psi_plus)\n",
    "print('|Psi^+> =', psi_plus_state)"
   ]
  },
  {
   "cell_type": "markdown",
   "metadata": {},
   "source": [
    "### The state $|\\Psi^-\\rangle$"
   ]
  },
  {
   "cell_type": "code",
   "execution_count": null,
   "metadata": {},
   "outputs": [],
   "source": [
    "# Let us first prepare the psi^- state\n",
    "qc_psi_minus = QuantumCircuit(2)\n",
    "# Now add the gates\n",
    "\n",
    "# Visualize the circuit\n",
    "qc_psi_minus.draw('mpl')"
   ]
  },
  {
   "cell_type": "code",
   "execution_count": null,
   "metadata": {},
   "outputs": [],
   "source": [
    "psi_minus_state = run_on_statevector_simulator(qc_psi_minus)\n",
    "print('|Psi^-> =', psi_minus_state)"
   ]
  },
  {
   "cell_type": "markdown",
   "metadata": {},
   "source": [
    "### The state $|\\Phi^+\\rangle$ (which we already know)"
   ]
  },
  {
   "cell_type": "code",
   "execution_count": null,
   "metadata": {},
   "outputs": [],
   "source": [
    "# The Phi^+ state\n",
    "qc_phi_plus = QuantumCircuit(2)\n",
    "qc_phi_plus.h(0)\n",
    "qc_phi_plus.cnot(0,1)\n",
    "qc_phi_plus.draw('mpl')\n",
    "phi_plus_state = run_on_statevector_simulator(qc_phi_plus)\n",
    "print('|Phi^+> =', phi_plus_state)"
   ]
  },
  {
   "cell_type": "markdown",
   "metadata": {},
   "source": [
    "### Check the orthogonality of the Bell states"
   ]
  },
  {
   "cell_type": "code",
   "execution_count": null,
   "metadata": {},
   "outputs": [],
   "source": [
    "# Check all of the six possible combinations\n",
    "print('|<Phi^+|Phi^->|^2 =', state_fidelity(phi_plus_state, phi_minus_state))\n",
    "# ..."
   ]
  }
 ],
 "metadata": {
  "kernelspec": {
   "display_name": "Python 3",
   "language": "python",
   "name": "python3"
  },
  "language_info": {
   "codemirror_mode": {
    "name": "ipython",
    "version": 3
   },
   "file_extension": ".py",
   "mimetype": "text/x-python",
   "name": "python",
   "nbconvert_exporter": "python",
   "pygments_lexer": "ipython3",
   "version": "3.6.9"
  }
 },
 "nbformat": 4,
 "nbformat_minor": 4
}
