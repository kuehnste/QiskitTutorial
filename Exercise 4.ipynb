{
 "cells": [
  {
   "cell_type": "markdown",
   "metadata": {},
   "source": [
    "# Exercise 4: The Deutsch-Josza Algorithm\n",
    "\n",
    "Complete the following snippets provided in the notebook."
   ]
  },
  {
   "cell_type": "markdown",
   "metadata": {},
   "source": [
    "## Imports from the Qiskit package"
   ]
  },
  {
   "cell_type": "code",
   "execution_count": null,
   "metadata": {},
   "outputs": [],
   "source": [
    "# Importing standard Qiskit libraries\n",
    "from qiskit import QuantumCircuit, execute, Aer, IBMQ\n",
    "from qiskit.visualization import *\n",
    "from qiskit.quantum_info import state_fidelity\n",
    "# Magic function to render plots in the notebook after the cell executing the plot command\n",
    "%matplotlib inline"
   ]
  },
  {
   "cell_type": "markdown",
   "metadata": {},
   "source": [
    "### Function for convenience which allows for running the simulator and extracting the results"
   ]
  },
  {
   "cell_type": "code",
   "execution_count": null,
   "metadata": {},
   "outputs": [],
   "source": [
    "def run_on_qasm_simulator(quantum_circuit, num_shots):\n",
    "    \"\"\"Takes a circuit, the number of shots and a backend and returns the counts for running the circuit\n",
    "    on the qasm_simulator backend.\"\"\"\n",
    "    qasm_simulator = Aer.get_backend('qasm_simulator')\n",
    "    job = execute(quantum_circuit, backend=qasm_simulator, shots=num_shots)\n",
    "    result = job.result()\n",
    "    counts = result.get_counts(quantum_circuit)\n",
    "    return counts"
   ]
  },
  {
   "cell_type": "markdown",
   "metadata": {},
   "source": [
    "### Oracles implementing the functions"
   ]
  },
  {
   "cell_type": "code",
   "execution_count": null,
   "metadata": {},
   "outputs": [],
   "source": [
    "def oracle_f1():\n",
    "    \"Oracle implementing function f1\"\n",
    "    qc = QuantumCircuit(3)\n",
    "    qc.cnot(0,2)    \n",
    "    qc.cnot(1,2)    \n",
    "    qc.x(2)\n",
    "    qc.cnot(1,2)    \n",
    "    qc.cnot(0,2)    \n",
    "    return qc"
   ]
  },
  {
   "cell_type": "code",
   "execution_count": null,
   "metadata": {},
   "outputs": [],
   "source": [
    "def oracle_f2():\n",
    "    \"Oracle implementing function f2\"\n",
    "    qc = QuantumCircuit(3)\n",
    "    qc.cnot(0,2)\n",
    "    qc.x(2)\n",
    "    qc.cnot(1,2)\n",
    "    return qc"
   ]
  },
  {
   "cell_type": "markdown",
   "metadata": {},
   "source": [
    "##  <font color='orange'>Implementing the Deutsch-Josza algorithm</font>\n",
    "\n",
    "The goal of this exercise is to understand the Deutsch Josza algorithm for a small instance. We use a oracles implementing the a function acting on two bits, hence, including the ancialla we need 3 qubits. Complete the following task:\n",
    "1. Visualize the circuit that oracle_f1() implements.\n",
    "2. Implement the Deutsch-Josza algorithm for the oracle implemented in function oracle_f1(). Visualize the circuit and convince yourself it is correct. Generate a histogram for 100 shots. What do you observe? What does this imply for the function f1 which the oracle implements?\n",
    "3. Repeat the same tasks for the second oracle."
   ]
  },
  {
   "cell_type": "code",
   "execution_count": null,
   "metadata": {},
   "outputs": [],
   "source": [
    "# We visualize the oracle\n"
   ]
  },
  {
   "cell_type": "code",
   "execution_count": null,
   "metadata": {},
   "outputs": [],
   "source": [
    "# Create a quantum circuit for 3 qubits and 2 classical registers\n",
    "qc_deutch_josza_oracle1 = QuantumCircuit(3,2)\n",
    "# Add the Hadamard gate\n",
    "\n",
    "# Apply the oracle\n",
    "\n",
    "# Add the z-gate acting on the ancilla\n",
    "\n",
    "# Apply the oracle again\n",
    "\n",
    "# Add the Hadamard gate\n",
    "\n",
    "# Add measurement to the first two qubits\n",
    "qc_deutch_josza_oracle1.barrier()\n",
    "qc_deutch_josza_oracle1.measure(range(2),range(2))\n",
    "# Visualize the circuit\n"
   ]
  },
  {
   "cell_type": "code",
   "execution_count": null,
   "metadata": {},
   "outputs": [],
   "source": [
    "# The number of shots we use\n",
    "num_shots = 100\n",
    "# Now we run the circuit\n",
    "\n",
    "# Visualize the results in form of a histogram\n"
   ]
  },
  {
   "cell_type": "code",
   "execution_count": null,
   "metadata": {},
   "outputs": [],
   "source": [
    "# We visualize the oracle\n"
   ]
  },
  {
   "cell_type": "code",
   "execution_count": null,
   "metadata": {},
   "outputs": [],
   "source": [
    "# Create a quantum circuit for 3 qubits and 2 classical registers\n",
    "qc_deutch_josza_oracle2 = QuantumCircuit(3,2)\n",
    "# Add the Hadamard gate\n",
    "\n",
    "# Apply the oracle\n",
    "\n",
    "# Add the z-gate acting on the ancilla\n",
    "\n",
    "# Apply the oracle again\n",
    "\n",
    "# Add the Hadamard gate\n",
    "\n",
    "# Add measurement to the first two qubits\n",
    "\n",
    "# Visualize the circuit\n"
   ]
  },
  {
   "cell_type": "code",
   "execution_count": null,
   "metadata": {},
   "outputs": [],
   "source": [
    "# The number of shots we use\n",
    "num_shots = 100\n",
    "# Now we run the circuit\n",
    "\n",
    "# Visualize the results in form of a histogram\n"
   ]
  },
  {
   "cell_type": "markdown",
   "metadata": {},
   "source": [
    "## <font color='green'>Optional tasks</font>\n",
    "\n",
    "Figure out what the functions implemented by the different oracles are doing. How can you do this using the qasm simulator?"
   ]
  }
 ],
 "metadata": {
  "kernelspec": {
   "display_name": "Python 3",
   "language": "python",
   "name": "python3"
  },
  "language_info": {
   "codemirror_mode": {
    "name": "ipython",
    "version": 3
   },
   "file_extension": ".py",
   "mimetype": "text/x-python",
   "name": "python",
   "nbconvert_exporter": "python",
   "pygments_lexer": "ipython3",
   "version": "3.7.7"
  }
 },
 "nbformat": 4,
 "nbformat_minor": 4
}
