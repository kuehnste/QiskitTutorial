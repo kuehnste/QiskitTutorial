{
 "cells": [
  {
   "cell_type": "markdown",
   "metadata": {},
   "source": [
    "# Example: Basic features of Qiskit\n",
    "\n",
    "This Jupyter notebook demonstrates the very basic features of Qiskit for creating quantum circuits, simulating them on various backends and visualizing the results. You can use it as a reference throughout the tutorial."
   ]
  },
  {
   "cell_type": "markdown",
   "metadata": {},
   "source": [
    "## Import the necessary packages"
   ]
  },
  {
   "cell_type": "code",
   "execution_count": null,
   "metadata": {},
   "outputs": [],
   "source": [
    "# Importing standard Qiskit libraries\n",
    "from qiskit import QuantumCircuit, execute, Aer\n",
    "from qiskit.visualization import *\n",
    "from qiskit.quantum_info import state_fidelity\n",
    "# Import numpy \n",
    "import numpy as np\n",
    "# Magic function to render plots in the notebook after the cell executing the plot command\n",
    "%matplotlib inline"
   ]
  },
  {
   "cell_type": "markdown",
   "metadata": {},
   "source": [
    "## Running a simulaton of a basic experiment\n",
    "\n",
    "### 1. Create and visualize the quantum circuit(s)\n",
    "\n",
    "The following command creates an empty quantum circuit with `num_qubits` qubits, where all qubits are initialized in the $|0\\rangle$ state."
   ]
  },
  {
   "cell_type": "code",
   "execution_count": null,
   "metadata": {},
   "outputs": [],
   "source": [
    "num_qubits = 3\n",
    "qc = QuantumCircuit(num_qubits)"
   ]
  },
  {
   "cell_type": "markdown",
   "metadata": {},
   "source": [
    "The corresponding circuit diagram can be drawn using the `draw` method. The (optional) argument tells Qiskit to use Matplotlib for the output which results in a little nicer output."
   ]
  },
  {
   "cell_type": "code",
   "execution_count": null,
   "metadata": {},
   "outputs": [],
   "source": [
    "qc.draw('mpl')"
   ]
  },
  {
   "cell_type": "markdown",
   "metadata": {},
   "source": [
    "Right now our quantum circuit is still empty, we need to add gates acting on the qubits."
   ]
  },
  {
   "cell_type": "code",
   "execution_count": null,
   "metadata": {},
   "outputs": [],
   "source": [
    "# Add an X-gate acting on qubit 0\n",
    "qc.x(0)\n",
    "# Add a Hadamard gate acting on qubit 1\n",
    "qc.h(1)\n",
    "# Add rotations R_p(theta), p={X, Y, Z} acting on the qubits\n",
    "qc.rx(np.pi/2, 0)\n",
    "qc.ry(np.pi/4, 1)\n",
    "qc.rz(np.pi/8, 2)\n",
    "# Look at the result using the draw method\n",
    "qc.draw('mpl')"
   ]
  },
  {
   "cell_type": "markdown",
   "metadata": {},
   "source": [
    "So far we have only added single-qubit gates. Two-qubit gates can be added in the same way."
   ]
  },
  {
   "cell_type": "code",
   "execution_count": null,
   "metadata": {},
   "outputs": [],
   "source": [
    "# Add a CNOT gate. The first argument is the index of the control qubit, \n",
    "# the second one the index of the target qubit\n",
    "qc.cnot(0,1)\n",
    "# Alternatively a CNOT can be added with the method cx\n",
    "qc.cx(0,1)\n",
    "# Add the R_zz(theta)=exp(-i theta ZZ/2) gate between qubits 1 and 2\n",
    "qc.rzz(np.pi/6, 1, 2)\n",
    "# Visualize the result\n",
    "qc.draw('mpl')"
   ]
  },
  {
   "cell_type": "markdown",
   "metadata": {},
   "source": [
    "If we want run the experiment on quantum hardware or a classical simulator emulating quantum hardware, we have to add a final measurement to the qubits to obtain information about the quantum state."
   ]
  },
  {
   "cell_type": "code",
   "execution_count": null,
   "metadata": {},
   "outputs": [],
   "source": [
    "# Add a measurement to all qubits\n",
    "qc.measure_all()\n",
    "# Visualize the result once more\n",
    "qc.draw('mpl')"
   ]
  },
  {
   "cell_type": "markdown",
   "metadata": {},
   "source": [
    "The double line indicates a classical register where the number on top of the slash indicates how many classical registers we have. The k-th classical register will hold the measurement outcome of qubit k."
   ]
  },
  {
   "cell_type": "markdown",
   "metadata": {},
   "source": [
    "### 2. Simulate the experiment\n",
    "\n",
    "In the following we simulate the quantum circuit on a classical simulator emulating the behavior of an (ideal) quantum computer. As such we have to run the circuit multiple times and record the statistics of the outcomes. The number of these repetitions is referred to as `shots` in Qiskit."
   ]
  },
  {
   "cell_type": "code",
   "execution_count": null,
   "metadata": {
    "scrolled": true
   },
   "outputs": [],
   "source": [
    "# Generate a qasm_simulator backend which emulates a quantum computer\n",
    "qasm_simulator = Aer.get_backend('qasm_simulator')\n",
    "# Execute the circuit on the qasm_simulator backend with 500 shots\n",
    "job = execute(qc, qasm_simulator, shots=500)\n",
    "# Retrieve the results from the job object\n",
    "result = job.result()\n",
    "# Among other information the result object contains the information\n",
    "# about the measurement outcomes\n",
    "counts = result.get_counts()\n",
    "print('Total counts for the computational basis states:',counts)"
   ]
  },
  {
   "cell_type": "markdown",
   "metadata": {},
   "source": [
    "### 3. Visualize the results and evaluate the data\n",
    "\n",
    "After obtaining the statistics for the measurement outcomes, we can visualize our data and compute oversvables."
   ]
  },
  {
   "cell_type": "code",
   "execution_count": null,
   "metadata": {},
   "outputs": [],
   "source": [
    "# Plot a simple histogram\n",
    "plot_histogram(counts, title='Counts of our sample circuit', legend=['500 shots'])"
   ]
  },
  {
   "cell_type": "markdown",
   "metadata": {},
   "source": [
    "Multiple outcomes can be plotted in a single histogram, to this end let us rerun our example with a different number of shots and compare both results."
   ]
  },
  {
   "cell_type": "code",
   "execution_count": null,
   "metadata": {},
   "outputs": [],
   "source": [
    "# Run the circuit on the qasm_simulator backend, but now with 8000 shots\n",
    "job2 = execute(qc, qasm_simulator, shots=8000)\n",
    "# Retrieve the counts\n",
    "result2 = job2.result()\n",
    "counts2 = result2.get_counts()"
   ]
  },
  {
   "cell_type": "code",
   "execution_count": null,
   "metadata": {},
   "outputs": [],
   "source": [
    "# Plot a histogram containing both results\n",
    "plot_histogram([counts, counts2], title='Counts of our sample circuit with different number of shots', legend=['500 shots', '8000 shots'])"
   ]
  },
  {
   "cell_type": "markdown",
   "metadata": {},
   "source": [
    "From the measurement outcomes we can compute observables which are diagonal in the computational basis. Assuming $D=\\mathrm{diag}(\\lambda_0,\\dots,\\lambda_{2^N-1})$ we can calculate $\\langle \\psi |D|\\psi\\rangle$ by expanding the wave function in the computational basis, $|\\psi\\rangle = \\sum_i c_i |i\\rangle$:\n",
    "$$\\langle \\psi |D|\\psi\\rangle = \\sum_{i=0}^{2^N-1} |c_i|^2 \\lambda_i.$$\n",
    "Dividing the counts by the number of shots, we get an estimate for $|c_i|^2$."
   ]
  },
  {
   "cell_type": "markdown",
   "metadata": {},
   "source": [
    "## The state vector simulator\n",
    "\n",
    "The `qasm_simulator` only yields the counts for the different basis states. For developing and debugging it is often useful to look at the state vector. While this cannot be done efficiently on a quantum computer, Qiskit offers the possibility to obtain the state vector using the `statevector_simulator` backend.\n",
    "\n",
    "### Generating a simple circuit and running it on the state vector simulator"
   ]
  },
  {
   "cell_type": "code",
   "execution_count": null,
   "metadata": {},
   "outputs": [],
   "source": [
    "qc2 = QuantumCircuit(2)\n",
    "qc2.rx(-np.pi/4,0)\n",
    "qc2.rx(+np.pi/4,1)\n",
    "qc2.draw('mpl')"
   ]
  },
  {
   "cell_type": "markdown",
   "metadata": {},
   "source": [
    "We can run this circuit on the state vector simulator to get the full wave function $|\\psi\\rangle$"
   ]
  },
  {
   "cell_type": "code",
   "execution_count": null,
   "metadata": {},
   "outputs": [],
   "source": [
    "# Generate the state vector simulator backend\n",
    "statevector_simulator = Aer.get_backend('statevector_simulator')\n",
    "# Execute the circuit on the state vector simulator\n",
    "job = execute(qc2, statevector_simulator)\n",
    "# From the job object we can retrieve the results \n",
    "result = job.result()\n",
    "# Among other information the result object allows us to retrieve the statevector\n",
    "psi = result.get_statevector()\n",
    "print('|psi> =',psi)"
   ]
  },
  {
   "cell_type": "markdown",
   "metadata": {},
   "source": [
    "Note that we did __not__ add a measurement at the end of the circuit, as this would project the state vector to one of the basis state and the state vector simulator would only yield a single basis state (as you can see in the example below)."
   ]
  },
  {
   "cell_type": "code",
   "execution_count": null,
   "metadata": {},
   "outputs": [],
   "source": [
    "# We add the measurement to our circuit\n",
    "qc2.measure_all()\n",
    "qc2.draw('mpl')"
   ]
  },
  {
   "cell_type": "code",
   "execution_count": null,
   "metadata": {},
   "outputs": [],
   "source": [
    "# Execute our circuit with measurement on the statevector_simulator backend\n",
    "job = execute(qc2, statevector_simulator)\n",
    "# From the job object we can retrieve the results \n",
    "result = job.result()\n",
    "# Among other information the result object allows us to retrieve the statevector\n",
    "psi_with_measurement = result.get_statevector()\n",
    "print('|psi_with_measurement> =',psi_with_measurement)"
   ]
  },
  {
   "cell_type": "markdown",
   "metadata": {},
   "source": [
    "### Checking the fidelity\n",
    "A good measure to check if two pure quantum states are the same is the fidelity\n",
    "$$F(|\\psi_1\\rangle, |\\psi_2\\rangle) = |\\langle\\psi_1|\\psi_2\\rangle|^2$$\n",
    "which is 0 iff $|\\psi_1\\rangle \\bot |\\psi_2\\rangle$ and 1 iff $|\\psi_1\\rangle = |\\psi_2\\rangle$ up to a global phase. "
   ]
  },
  {
   "cell_type": "code",
   "execution_count": null,
   "metadata": {},
   "outputs": [],
   "source": [
    "print('F(|psi>, |psi>) =',state_fidelity(psi,psi))\n",
    "print('F(|psi>, |psi_with_measurement>) =',state_fidelity(psi,psi_with_measurement))"
   ]
  },
  {
   "cell_type": "markdown",
   "metadata": {},
   "source": [
    "### Visualizing the results from the state vector simulator\n",
    "The density matrix $\\rho = |\\psi\\rangle\\langle\\psi|$ can be visualized in various ways as shown in the following."
   ]
  },
  {
   "cell_type": "code",
   "execution_count": null,
   "metadata": {},
   "outputs": [],
   "source": [
    "# Plot the real and imaginary parts of the density matrix\n",
    "plot_state_city(psi)"
   ]
  },
  {
   "cell_type": "code",
   "execution_count": null,
   "metadata": {},
   "outputs": [],
   "source": [
    "# Plot a 2d projection of the real and imaginary part or the density matrix\n",
    "plot_state_hinton(psi)"
   ]
  },
  {
   "cell_type": "markdown",
   "metadata": {},
   "source": [
    "Plot the expansion of the density matrix in the Pauli basis\n",
    "$$\\rho = \\sum_{A,B=\\{I,X,Y,Z\\}}c_{AB}A\\otimes B.$$"
   ]
  },
  {
   "cell_type": "code",
   "execution_count": null,
   "metadata": {},
   "outputs": [],
   "source": [
    "plot_state_paulivec(psi)"
   ]
  },
  {
   "cell_type": "markdown",
   "metadata": {},
   "source": [
    "It is also possible to visualize the result on the Bloch sphere with `plot_bloch_multivector`. If the multi-qubit state is entangled, the reduced density matrix obtained after taking the partial trace over all qubits other than qubit $q$ is plotted for of the qubits."
   ]
  },
  {
   "cell_type": "code",
   "execution_count": null,
   "metadata": {},
   "outputs": [],
   "source": [
    "plot_bloch_multivector(psi)"
   ]
  },
  {
   "cell_type": "markdown",
   "metadata": {},
   "source": [
    "## The unitary simulator\n",
    "\n",
    "The `unitary_simulator` backend allows for the retrieving the unitary matrix corresponding to the quantum circuit one constructed. This is another useful tool, for testing and validating"
   ]
  },
  {
   "cell_type": "code",
   "execution_count": null,
   "metadata": {},
   "outputs": [],
   "source": [
    "# Construct a quantum circuit with a single CNOT gate as an example\n",
    "qc3 = QuantumCircuit(2)\n",
    "qc3.cx(1, 0)\n",
    "qc3.draw('mpl')"
   ]
  },
  {
   "cell_type": "markdown",
   "metadata": {},
   "source": [
    "Note that we did __not__ add a measurement at the end of the circuit, as this would project the state vector to one of the basis state and yield a nonunitary matrix.\n",
    "\n",
    "Running the example on the unitary simulator, we can retrieve the matrix representation of our quantum circuit."
   ]
  },
  {
   "cell_type": "code",
   "execution_count": null,
   "metadata": {},
   "outputs": [],
   "source": [
    "# Generate the unitary simulator backend\n",
    "unitary_simulator = Aer.get_backend('unitary_simulator')\n",
    "# Execute the circuit on the unitary simulator\n",
    "job = execute(qc3, unitary_simulator)\n",
    "# From the job object we can retrieve the results \n",
    "result = job.result()\n",
    "# Among other information the result object allows us to retrieve the unitary\n",
    "# matrix corresponding to the circuit\n",
    "unitary = result.get_unitary()\n",
    "print(\"Circuit unitary:\\n\", unitary)"
   ]
  }
 ],
 "metadata": {
  "kernelspec": {
   "display_name": "Python 3",
   "language": "python",
   "name": "python3"
  },
  "language_info": {
   "codemirror_mode": {
    "name": "ipython",
    "version": 3
   },
   "file_extension": ".py",
   "mimetype": "text/x-python",
   "name": "python",
   "nbconvert_exporter": "python",
   "pygments_lexer": "ipython3",
   "version": "3.6.9"
  }
 },
 "nbformat": 4,
 "nbformat_minor": 4
}
